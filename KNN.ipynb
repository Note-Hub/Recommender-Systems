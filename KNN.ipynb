{
 "cells": [
  {
   "cell_type": "code",
   "execution_count": 20,
   "metadata": {
    "collapsed": true
   },
   "outputs": [],
   "source": [
    "import numpy as np\n",
    "import pandas as pd\n",
    "import math\n",
    "from sklearn.model_selection import train_test_split\n",
    "from data import *\n",
    "from evaluation import *\n",
    "%matplotlib inline"
   ]
  },
  {
   "cell_type": "markdown",
   "metadata": {},
   "source": [
    "### 读取数据 并展示"
   ]
  },
  {
   "cell_type": "code",
   "execution_count": 2,
   "metadata": {
    "collapsed": false
   },
   "outputs": [],
   "source": [
    "data_col = ['user_id','item_id','rating','timestamp']\n",
    " \n",
    "item_col = ['movie_id','movie_title','release_date','video_release_date','IMDb_URL','unknown','Action',\n",
    "           'Adventure','Animation',\"Children's\",'Comedy','Crime','Documentary','Drama','Fantasy',\n",
    "           'Film-Noir','Horror','Musical','Mystery','Romance','Sci-Fi','Thriller','War','Western']\n",
    " \n",
    "#总数据包含了用户，物品，评分\n",
    "data_dir = 'datasets/ml-100k/u.data' \n",
    "data = pd.read_table(data_dir,header=None, names=data_col, parse_dates=['timestamp'])\n",
    " \n",
    "#物品详细数据\n",
    "item_dir = 'datasets/ml-100k/u.item'\n",
    "item = pd.read_table(item_dir, header=None, names=item_col, parse_dates=['release_date','video_release_date'], encoding='ISO-8859-1', sep='|')"
   ]
  },
  {
   "cell_type": "code",
   "execution_count": 3,
   "metadata": {
    "collapsed": false
   },
   "outputs": [
    {
     "data": {
      "text/html": [
       "<div>\n",
       "<table border=\"1\" class=\"dataframe\">\n",
       "  <thead>\n",
       "    <tr style=\"text-align: right;\">\n",
       "      <th></th>\n",
       "      <th>movie_id</th>\n",
       "      <th>movie_title</th>\n",
       "      <th>release_date</th>\n",
       "      <th>video_release_date</th>\n",
       "      <th>IMDb_URL</th>\n",
       "      <th>unknown</th>\n",
       "      <th>Action</th>\n",
       "      <th>Adventure</th>\n",
       "      <th>Animation</th>\n",
       "      <th>Children's</th>\n",
       "      <th>...</th>\n",
       "      <th>Fantasy</th>\n",
       "      <th>Film-Noir</th>\n",
       "      <th>Horror</th>\n",
       "      <th>Musical</th>\n",
       "      <th>Mystery</th>\n",
       "      <th>Romance</th>\n",
       "      <th>Sci-Fi</th>\n",
       "      <th>Thriller</th>\n",
       "      <th>War</th>\n",
       "      <th>Western</th>\n",
       "    </tr>\n",
       "  </thead>\n",
       "  <tbody>\n",
       "    <tr>\n",
       "      <th>0</th>\n",
       "      <td>1</td>\n",
       "      <td>Toy Story (1995)</td>\n",
       "      <td>1995-01-01</td>\n",
       "      <td>NaT</td>\n",
       "      <td>http://us.imdb.com/M/title-exact?Toy%20Story%2...</td>\n",
       "      <td>0</td>\n",
       "      <td>0</td>\n",
       "      <td>0</td>\n",
       "      <td>1</td>\n",
       "      <td>1</td>\n",
       "      <td>...</td>\n",
       "      <td>0</td>\n",
       "      <td>0</td>\n",
       "      <td>0</td>\n",
       "      <td>0</td>\n",
       "      <td>0</td>\n",
       "      <td>0</td>\n",
       "      <td>0</td>\n",
       "      <td>0</td>\n",
       "      <td>0</td>\n",
       "      <td>0</td>\n",
       "    </tr>\n",
       "    <tr>\n",
       "      <th>1</th>\n",
       "      <td>2</td>\n",
       "      <td>GoldenEye (1995)</td>\n",
       "      <td>1995-01-01</td>\n",
       "      <td>NaT</td>\n",
       "      <td>http://us.imdb.com/M/title-exact?GoldenEye%20(...</td>\n",
       "      <td>0</td>\n",
       "      <td>1</td>\n",
       "      <td>1</td>\n",
       "      <td>0</td>\n",
       "      <td>0</td>\n",
       "      <td>...</td>\n",
       "      <td>0</td>\n",
       "      <td>0</td>\n",
       "      <td>0</td>\n",
       "      <td>0</td>\n",
       "      <td>0</td>\n",
       "      <td>0</td>\n",
       "      <td>0</td>\n",
       "      <td>1</td>\n",
       "      <td>0</td>\n",
       "      <td>0</td>\n",
       "    </tr>\n",
       "    <tr>\n",
       "      <th>2</th>\n",
       "      <td>3</td>\n",
       "      <td>Four Rooms (1995)</td>\n",
       "      <td>1995-01-01</td>\n",
       "      <td>NaT</td>\n",
       "      <td>http://us.imdb.com/M/title-exact?Four%20Rooms%...</td>\n",
       "      <td>0</td>\n",
       "      <td>0</td>\n",
       "      <td>0</td>\n",
       "      <td>0</td>\n",
       "      <td>0</td>\n",
       "      <td>...</td>\n",
       "      <td>0</td>\n",
       "      <td>0</td>\n",
       "      <td>0</td>\n",
       "      <td>0</td>\n",
       "      <td>0</td>\n",
       "      <td>0</td>\n",
       "      <td>0</td>\n",
       "      <td>1</td>\n",
       "      <td>0</td>\n",
       "      <td>0</td>\n",
       "    </tr>\n",
       "    <tr>\n",
       "      <th>3</th>\n",
       "      <td>4</td>\n",
       "      <td>Get Shorty (1995)</td>\n",
       "      <td>1995-01-01</td>\n",
       "      <td>NaT</td>\n",
       "      <td>http://us.imdb.com/M/title-exact?Get%20Shorty%...</td>\n",
       "      <td>0</td>\n",
       "      <td>1</td>\n",
       "      <td>0</td>\n",
       "      <td>0</td>\n",
       "      <td>0</td>\n",
       "      <td>...</td>\n",
       "      <td>0</td>\n",
       "      <td>0</td>\n",
       "      <td>0</td>\n",
       "      <td>0</td>\n",
       "      <td>0</td>\n",
       "      <td>0</td>\n",
       "      <td>0</td>\n",
       "      <td>0</td>\n",
       "      <td>0</td>\n",
       "      <td>0</td>\n",
       "    </tr>\n",
       "    <tr>\n",
       "      <th>4</th>\n",
       "      <td>5</td>\n",
       "      <td>Copycat (1995)</td>\n",
       "      <td>1995-01-01</td>\n",
       "      <td>NaT</td>\n",
       "      <td>http://us.imdb.com/M/title-exact?Copycat%20(1995)</td>\n",
       "      <td>0</td>\n",
       "      <td>0</td>\n",
       "      <td>0</td>\n",
       "      <td>0</td>\n",
       "      <td>0</td>\n",
       "      <td>...</td>\n",
       "      <td>0</td>\n",
       "      <td>0</td>\n",
       "      <td>0</td>\n",
       "      <td>0</td>\n",
       "      <td>0</td>\n",
       "      <td>0</td>\n",
       "      <td>0</td>\n",
       "      <td>1</td>\n",
       "      <td>0</td>\n",
       "      <td>0</td>\n",
       "    </tr>\n",
       "  </tbody>\n",
       "</table>\n",
       "<p>5 rows × 24 columns</p>\n",
       "</div>"
      ],
      "text/plain": [
       "   movie_id        movie_title release_date video_release_date  \\\n",
       "0         1   Toy Story (1995)   1995-01-01                NaT   \n",
       "1         2   GoldenEye (1995)   1995-01-01                NaT   \n",
       "2         3  Four Rooms (1995)   1995-01-01                NaT   \n",
       "3         4  Get Shorty (1995)   1995-01-01                NaT   \n",
       "4         5     Copycat (1995)   1995-01-01                NaT   \n",
       "\n",
       "                                            IMDb_URL  unknown  Action  \\\n",
       "0  http://us.imdb.com/M/title-exact?Toy%20Story%2...        0       0   \n",
       "1  http://us.imdb.com/M/title-exact?GoldenEye%20(...        0       1   \n",
       "2  http://us.imdb.com/M/title-exact?Four%20Rooms%...        0       0   \n",
       "3  http://us.imdb.com/M/title-exact?Get%20Shorty%...        0       1   \n",
       "4  http://us.imdb.com/M/title-exact?Copycat%20(1995)        0       0   \n",
       "\n",
       "   Adventure  Animation  Children's   ...     Fantasy  Film-Noir  Horror  \\\n",
       "0          0          1           1   ...           0          0       0   \n",
       "1          1          0           0   ...           0          0       0   \n",
       "2          0          0           0   ...           0          0       0   \n",
       "3          0          0           0   ...           0          0       0   \n",
       "4          0          0           0   ...           0          0       0   \n",
       "\n",
       "   Musical  Mystery  Romance  Sci-Fi  Thriller  War  Western  \n",
       "0        0        0        0       0         0    0        0  \n",
       "1        0        0        0       0         1    0        0  \n",
       "2        0        0        0       0         1    0        0  \n",
       "3        0        0        0       0         0    0        0  \n",
       "4        0        0        0       0         1    0        0  \n",
       "\n",
       "[5 rows x 24 columns]"
      ]
     },
     "execution_count": 3,
     "metadata": {},
     "output_type": "execute_result"
    }
   ],
   "source": [
    "item.head()"
   ]
  },
  {
   "cell_type": "code",
   "execution_count": 4,
   "metadata": {
    "collapsed": false
   },
   "outputs": [
    {
     "data": {
      "text/html": [
       "<div>\n",
       "<table border=\"1\" class=\"dataframe\">\n",
       "  <thead>\n",
       "    <tr style=\"text-align: right;\">\n",
       "      <th></th>\n",
       "      <th>user_id</th>\n",
       "      <th>item_id</th>\n",
       "      <th>rating</th>\n",
       "      <th>timestamp</th>\n",
       "    </tr>\n",
       "  </thead>\n",
       "  <tbody>\n",
       "    <tr>\n",
       "      <th>0</th>\n",
       "      <td>196</td>\n",
       "      <td>242</td>\n",
       "      <td>3</td>\n",
       "      <td>881250949</td>\n",
       "    </tr>\n",
       "    <tr>\n",
       "      <th>1</th>\n",
       "      <td>186</td>\n",
       "      <td>302</td>\n",
       "      <td>3</td>\n",
       "      <td>891717742</td>\n",
       "    </tr>\n",
       "    <tr>\n",
       "      <th>2</th>\n",
       "      <td>22</td>\n",
       "      <td>377</td>\n",
       "      <td>1</td>\n",
       "      <td>878887116</td>\n",
       "    </tr>\n",
       "    <tr>\n",
       "      <th>3</th>\n",
       "      <td>244</td>\n",
       "      <td>51</td>\n",
       "      <td>2</td>\n",
       "      <td>880606923</td>\n",
       "    </tr>\n",
       "    <tr>\n",
       "      <th>4</th>\n",
       "      <td>166</td>\n",
       "      <td>346</td>\n",
       "      <td>1</td>\n",
       "      <td>886397596</td>\n",
       "    </tr>\n",
       "  </tbody>\n",
       "</table>\n",
       "</div>"
      ],
      "text/plain": [
       "   user_id  item_id  rating  timestamp\n",
       "0      196      242       3  881250949\n",
       "1      186      302       3  891717742\n",
       "2       22      377       1  878887116\n",
       "3      244       51       2  880606923\n",
       "4      166      346       1  886397596"
      ]
     },
     "execution_count": 4,
     "metadata": {},
     "output_type": "execute_result"
    }
   ],
   "source": [
    "data.head()"
   ]
  },
  {
   "cell_type": "markdown",
   "metadata": {},
   "source": [
    "### 加载数据\n",
    "#### 将id标准化：新id从0开始按1递增，输出格式：(user, item, rating)"
   ]
  },
  {
   "cell_type": "code",
   "execution_count": 5,
   "metadata": {
    "collapsed": false
   },
   "outputs": [
    {
     "name": "stdout",
     "output_type": "stream",
     "text": [
      " data length: 100000 \n",
      " user number: 943 \n",
      " item number: 1682\n"
     ]
    }
   ],
   "source": [
    "N, M, data_list, item_ids_dict = load_data(file_dir=data_dir)\n",
    "print(' data length: %d \\n user number: %d \\n item number: %d' %(len(data_list),N,M))"
   ]
  },
  {
   "cell_type": "code",
   "execution_count": 6,
   "metadata": {
    "collapsed": false
   },
   "outputs": [
    {
     "data": {
      "text/html": [
       "<div>\n",
       "<table border=\"1\" class=\"dataframe\">\n",
       "  <thead>\n",
       "    <tr style=\"text-align: right;\">\n",
       "      <th></th>\n",
       "      <th>new_id</th>\n",
       "      <th>movie_id</th>\n",
       "      <th>movie_title</th>\n",
       "      <th>release_date</th>\n",
       "      <th>video_release_date</th>\n",
       "      <th>IMDb_URL</th>\n",
       "      <th>unknown</th>\n",
       "      <th>Action</th>\n",
       "      <th>Adventure</th>\n",
       "      <th>Animation</th>\n",
       "      <th>...</th>\n",
       "      <th>Fantasy</th>\n",
       "      <th>Film-Noir</th>\n",
       "      <th>Horror</th>\n",
       "      <th>Musical</th>\n",
       "      <th>Mystery</th>\n",
       "      <th>Romance</th>\n",
       "      <th>Sci-Fi</th>\n",
       "      <th>Thriller</th>\n",
       "      <th>War</th>\n",
       "      <th>Western</th>\n",
       "    </tr>\n",
       "  </thead>\n",
       "  <tbody>\n",
       "    <tr>\n",
       "      <th>0</th>\n",
       "      <td>0</td>\n",
       "      <td>242</td>\n",
       "      <td>Kolya (1996)</td>\n",
       "      <td>1997-01-24</td>\n",
       "      <td>NaT</td>\n",
       "      <td>http://us.imdb.com/M/title-exact?Kolya%20(1996)</td>\n",
       "      <td>0</td>\n",
       "      <td>0</td>\n",
       "      <td>0</td>\n",
       "      <td>0</td>\n",
       "      <td>...</td>\n",
       "      <td>0</td>\n",
       "      <td>0</td>\n",
       "      <td>0</td>\n",
       "      <td>0</td>\n",
       "      <td>0</td>\n",
       "      <td>0</td>\n",
       "      <td>0</td>\n",
       "      <td>0</td>\n",
       "      <td>0</td>\n",
       "      <td>0</td>\n",
       "    </tr>\n",
       "    <tr>\n",
       "      <th>1</th>\n",
       "      <td>1</td>\n",
       "      <td>302</td>\n",
       "      <td>L.A. Confidential (1997)</td>\n",
       "      <td>1997-01-01</td>\n",
       "      <td>NaT</td>\n",
       "      <td>http://us.imdb.com/M/title-exact?L%2EA%2E+Conf...</td>\n",
       "      <td>0</td>\n",
       "      <td>0</td>\n",
       "      <td>0</td>\n",
       "      <td>0</td>\n",
       "      <td>...</td>\n",
       "      <td>0</td>\n",
       "      <td>1</td>\n",
       "      <td>0</td>\n",
       "      <td>0</td>\n",
       "      <td>1</td>\n",
       "      <td>0</td>\n",
       "      <td>0</td>\n",
       "      <td>1</td>\n",
       "      <td>0</td>\n",
       "      <td>0</td>\n",
       "    </tr>\n",
       "    <tr>\n",
       "      <th>2</th>\n",
       "      <td>2</td>\n",
       "      <td>377</td>\n",
       "      <td>Heavyweights (1994)</td>\n",
       "      <td>1994-01-01</td>\n",
       "      <td>NaT</td>\n",
       "      <td>http://us.imdb.com/M/title-exact?Heavyweights%...</td>\n",
       "      <td>0</td>\n",
       "      <td>0</td>\n",
       "      <td>0</td>\n",
       "      <td>0</td>\n",
       "      <td>...</td>\n",
       "      <td>0</td>\n",
       "      <td>0</td>\n",
       "      <td>0</td>\n",
       "      <td>0</td>\n",
       "      <td>0</td>\n",
       "      <td>0</td>\n",
       "      <td>0</td>\n",
       "      <td>0</td>\n",
       "      <td>0</td>\n",
       "      <td>0</td>\n",
       "    </tr>\n",
       "    <tr>\n",
       "      <th>3</th>\n",
       "      <td>3</td>\n",
       "      <td>51</td>\n",
       "      <td>Legends of the Fall (1994)</td>\n",
       "      <td>1994-01-01</td>\n",
       "      <td>NaT</td>\n",
       "      <td>http://us.imdb.com/M/title-exact?Legends%20of%...</td>\n",
       "      <td>0</td>\n",
       "      <td>0</td>\n",
       "      <td>0</td>\n",
       "      <td>0</td>\n",
       "      <td>...</td>\n",
       "      <td>0</td>\n",
       "      <td>0</td>\n",
       "      <td>0</td>\n",
       "      <td>0</td>\n",
       "      <td>0</td>\n",
       "      <td>1</td>\n",
       "      <td>0</td>\n",
       "      <td>0</td>\n",
       "      <td>1</td>\n",
       "      <td>1</td>\n",
       "    </tr>\n",
       "    <tr>\n",
       "      <th>4</th>\n",
       "      <td>4</td>\n",
       "      <td>346</td>\n",
       "      <td>Jackie Brown (1997)</td>\n",
       "      <td>1997-01-01</td>\n",
       "      <td>NaT</td>\n",
       "      <td>http://us.imdb.com/M/title-exact?imdb-title-11...</td>\n",
       "      <td>0</td>\n",
       "      <td>0</td>\n",
       "      <td>0</td>\n",
       "      <td>0</td>\n",
       "      <td>...</td>\n",
       "      <td>0</td>\n",
       "      <td>0</td>\n",
       "      <td>0</td>\n",
       "      <td>0</td>\n",
       "      <td>0</td>\n",
       "      <td>0</td>\n",
       "      <td>0</td>\n",
       "      <td>0</td>\n",
       "      <td>0</td>\n",
       "      <td>0</td>\n",
       "    </tr>\n",
       "  </tbody>\n",
       "</table>\n",
       "<p>5 rows × 25 columns</p>\n",
       "</div>"
      ],
      "text/plain": [
       "   new_id  movie_id                 movie_title release_date  \\\n",
       "0       0       242                Kolya (1996)   1997-01-24   \n",
       "1       1       302    L.A. Confidential (1997)   1997-01-01   \n",
       "2       2       377         Heavyweights (1994)   1994-01-01   \n",
       "3       3        51  Legends of the Fall (1994)   1994-01-01   \n",
       "4       4       346         Jackie Brown (1997)   1997-01-01   \n",
       "\n",
       "  video_release_date                                           IMDb_URL  \\\n",
       "0                NaT    http://us.imdb.com/M/title-exact?Kolya%20(1996)   \n",
       "1                NaT  http://us.imdb.com/M/title-exact?L%2EA%2E+Conf...   \n",
       "2                NaT  http://us.imdb.com/M/title-exact?Heavyweights%...   \n",
       "3                NaT  http://us.imdb.com/M/title-exact?Legends%20of%...   \n",
       "4                NaT  http://us.imdb.com/M/title-exact?imdb-title-11...   \n",
       "\n",
       "   unknown  Action  Adventure  Animation   ...     Fantasy  Film-Noir  Horror  \\\n",
       "0        0       0          0          0   ...           0          0       0   \n",
       "1        0       0          0          0   ...           0          1       0   \n",
       "2        0       0          0          0   ...           0          0       0   \n",
       "3        0       0          0          0   ...           0          0       0   \n",
       "4        0       0          0          0   ...           0          0       0   \n",
       "\n",
       "   Musical  Mystery  Romance  Sci-Fi  Thriller  War  Western  \n",
       "0        0        0        0       0         0    0        0  \n",
       "1        0        1        0       0         1    0        0  \n",
       "2        0        0        0       0         0    0        0  \n",
       "3        0        0        1       0         0    1        1  \n",
       "4        0        0        0       0         0    0        0  \n",
       "\n",
       "[5 rows x 25 columns]"
      ]
     },
     "execution_count": 6,
     "metadata": {},
     "output_type": "execute_result"
    }
   ],
   "source": [
    "new_item_information = item.insert(0,'new_id',[item_ids_dict[old_idx] for old_idx in item['movie_id']])\n",
    "item.sort_values('new_id',inplace=False).set_index(['new_id']).reset_index().head()"
   ]
  },
  {
   "cell_type": "markdown",
   "metadata": {},
   "source": [
    "### 分割数据集"
   ]
  },
  {
   "cell_type": "code",
   "execution_count": 7,
   "metadata": {
    "collapsed": false
   },
   "outputs": [
    {
     "name": "stdout",
     "output_type": "stream",
     "text": [
      "train length: 80000 \n",
      " test length: 20000\n"
     ]
    }
   ],
   "source": [
    "train_list, test_list = train_test_split(data_list,test_size=0.2)\n",
    "print ('train length: %d \\n test length: %d' %(len(train_list),len(test_list)))"
   ]
  },
  {
   "cell_type": "markdown",
   "metadata": {},
   "source": [
    "### 转化数据成矩阵格式"
   ]
  },
  {
   "cell_type": "code",
   "execution_count": 8,
   "metadata": {
    "collapsed": false
   },
   "outputs": [
    {
     "data": {
      "text/plain": [
       "array([ 3.,  0.,  0.,  0.,  0.,  0.,  0.,  0.,  0.,  0.,  2.,  0.,  0.,\n",
       "        0.,  0.,  0.,  0.,  0.,  0.,  0.,  0.,  0.,  0.,  0.,  0.,  0.,\n",
       "        0.,  0.,  0.,  0.,  0.,  0.,  0.,  0.,  0.,  0.,  0.,  0.,  0.,\n",
       "        0.,  0.,  0.,  0.,  0.,  0.,  0.,  0.,  0.,  0.,  0.,  0.,  0.,\n",
       "        0.,  0.,  0.,  0.,  0.,  0.,  0.,  0.,  0.,  0.,  0.,  0.,  0.,\n",
       "        0.,  0.,  0.,  0.,  0.,  0.,  0.,  0.,  0.,  0.,  0.,  0.,  0.,\n",
       "        0.,  0.,  0.,  0.,  0.,  4.,  0.,  0.,  4.,  0.,  0.,  0.,  0.,\n",
       "        0.,  0.,  0.,  0.,  0.,  0.,  0.,  0.,  0.])"
      ]
     },
     "execution_count": 8,
     "metadata": {},
     "output_type": "execute_result"
    }
   ],
   "source": [
    "train_mat = sequence2mat(sequence = train_list, N = N, M = M)\n",
    "test_mat = sequence2mat(sequence = test_list, N = N, M = M)\n",
    "train_mat[0,:100]"
   ]
  },
  {
   "cell_type": "markdown",
   "metadata": {},
   "source": [
    "### 计算相似度"
   ]
  },
  {
   "cell_type": "code",
   "execution_count": 9,
   "metadata": {
    "collapsed": true
   },
   "outputs": [],
   "source": [
    "# 计算 a 和 b 之间相似度\n",
    "def calculate_similarity(a, b, model='pearson', minimum_common_items=5):\n",
    "    assert a.shape==b.shape\n",
    "    dim = len(a.shape) #向量维度\n",
    "    common_items = a*b>0 # 共同评分的项\n",
    "    common_size = np.sum(common_items,axis=dim-1)\n",
    "    \n",
    "    if model=='pearson':\n",
    "        mean_a = np.sum(a,axis=dim-1)/np.sum(a>0,axis=dim-1)\n",
    "        mean_b = np.sum(b,axis=dim-1)/np.sum(b>0,axis=dim-1)\n",
    "        if dim ==1: #若是两个列向量\n",
    "            aa = (a - mean_a)*common_items\n",
    "            bb = (b - mean_b)*common_items\n",
    "        else:\n",
    "            aa = (a - np.reshape(mean_a, (-1,1)))*common_items\n",
    "            bb = (b - np.reshape(mean_b, (-1,1)))*common_items\n",
    "    else: #consine\n",
    "        mean_u = np.sum(b,axis=0)/np.sum(b>0,axis=0)\n",
    "        aa = (a - mean_u)*common_items\n",
    "        bb = (b - mean_u)*common_items\n",
    "        \n",
    "    sim = np.sum(aa*bb, axis=dim-1)/(np.sqrt(np.sum(aa**2, axis=dim-1))*np.sqrt(np.sum(bb**2, axis=dim-1)) + 1e-10)\n",
    "    least_common_items = common_size>minimum_common_items # 共同评分的商品不少于least_common_items\n",
    "    return sim*least_common_items\n",
    "\n",
    "\n",
    "# 计算相似度\n",
    "def similarity_matrix(mat, model='pearson', minimum_common_items=5):\n",
    "    n,m = mat.shape\n",
    "    sim_list=[]\n",
    "    for u in range(n):\n",
    "        a = np.tile(mat[u,:], (n,1))\n",
    "        b = mat\n",
    "        if model=='pearson':\n",
    "            sim = calculate_similarity(a, b, model='pearson', minimum_common_items=minimum_common_items)\n",
    "        else: # consine\n",
    "            sim = calculate_similarity(a, b, model='consine', minimum_common_items=minimum_common_items)\n",
    "        sim_list.append(sim)\n",
    "        if u % 100 ==0:\n",
    "            print(u)\n",
    "    return np.array(sim_list) "
   ]
  },
  {
   "cell_type": "code",
   "execution_count": 10,
   "metadata": {
    "collapsed": false
   },
   "outputs": [
    {
     "name": "stdout",
     "output_type": "stream",
     "text": [
      "0\n",
      "100\n",
      "200\n",
      "300\n",
      "400\n",
      "500\n",
      "600\n",
      "700\n",
      "800\n",
      "900\n"
     ]
    }
   ],
   "source": [
    "sim_mat = similarity_matrix(mat=train_mat, model='pearson')\n",
    "neighbors = np.argsort(-np.array(sim_mat)) # 获取近邻\n",
    "sim_sort = -1*np.sort(-np.array(sim_mat)) # 获取对应近邻的相似度"
   ]
  },
  {
   "cell_type": "code",
   "execution_count": 17,
   "metadata": {
    "collapsed": false
   },
   "outputs": [
    {
     "name": "stdout",
     "output_type": "stream",
     "text": [
      "user 0:\n",
      "neighbors:\n",
      "[  0  20  87 887 123  25 660 928 876  54]\n",
      "sim:\n",
      "\n",
      "[ 1.      0.8112  0.7276  0.7175  0.7076  0.7043  0.6884  0.6744  0.654\n",
      "  0.6533]\n",
      "similarity_mat:\n",
      "[[ 1.     -0.      0.3777 -0.1348 -0.      0.0008]\n",
      " [-0.      1.      0.427  -0.0791  0.      0.0339]\n",
      " [ 0.3777  0.427   1.      0.1021  0.      0.3127]\n",
      " [-0.1348 -0.0791  0.1021  1.      0.     -0.0071]\n",
      " [-0.      0.      0.      0.      1.      0.    ]\n",
      " [ 0.0008  0.0339  0.3127 -0.0071  0.      1.    ]]\n"
     ]
    }
   ],
   "source": [
    "np.set_printoptions(precision=4, suppress=True)\n",
    "print('user 0:')\n",
    "print('neighbors:') # 用户0的近邻\n",
    "print(neighbors[0,:10])\n",
    "print('sim:\\n') # 用户0 的近邻相似度\n",
    "print(sim_sort[0,:10])\n",
    "print('similarity_mat:') # 用户之间的相似度矩阵\n",
    "print(sim_mat[:6,:6])"
   ]
  },
  {
   "cell_type": "markdown",
   "metadata": {},
   "source": [
    "### 近邻Ｋ的取值\n",
    "经验取值：一般取 10-50 "
   ]
  },
  {
   "cell_type": "code",
   "execution_count": 24,
   "metadata": {
    "collapsed": true
   },
   "outputs": [],
   "source": [
    "def get_K(sim_mat, min_similarity=0.5):\n",
    "    num = np.sum(sim_mat[:,1:]>min_similarity, axis=1) #统计用户大于min_similarity的评分数\n",
    "    \n",
    "    # 画图 \n",
    "    plt.rcParams['font.sans-serif'] = [u'SimHei']\n",
    "    plt.rcParams['axes.unicode_minus'] = False\n",
    "    plt.hist(num, bins=40, normed=0, facecolor=\"blue\", edgecolor=\"black\", alpha=0.7)\n",
    "    plt.xlabel(u\"人数/商品数\")\n",
    "    plt.ylabel(u\"次数\")\n",
    "    plt.title(u\"人数/商品数-次数分布直方图\")\n",
    "    plt.show()\n",
    "    \n",
    "    num_sort = np.sort(-num)\n",
    "    line = int(0.8*len(sim_mat))\n",
    "    K = -1*num_sort[line]\n",
    "    return K"
   ]
  },
  {
   "cell_type": "code",
   "execution_count": 25,
   "metadata": {
    "collapsed": false
   },
   "outputs": [
    {
     "data": {
      "image/png": "[encoded data removed]",
      "text/plain": [
       "<matplotlib.figure.Figure at 0xc3f8240>"
      ]
     },
     "metadata": {},
     "output_type": "display_data"
    },
    {
     "name": "stdout",
     "output_type": "stream",
     "text": [
      "('min_similarity:', 0.8, 'K:', 3)\n"
     ]
    },
    {
     "data": {
      "image/png": "[encoded data removed]",
      "text/plain": [
       "<matplotlib.figure.Figure at 0x11d3b198>"
      ]
     },
     "metadata": {},
     "output_type": "display_data"
    },
    {
     "name": "stdout",
     "output_type": "stream",
     "text": [
      "('min_similarity:', 0.5, 'K:', 32)\n"
     ]
    }
   ],
   "source": [
    "min_similarity=0.8\n",
    "K = get_K(sim_mat, min_similarity=min_similarity)\n",
    "print('min_similarity:',min_similarity,'K:',K)\n",
    "\n",
    "min_similarity=0.5\n",
    "K = get_K(sim_mat, min_similarity=min_similarity)\n",
    "print('min_similarity:',min_similarity,'K:',K)"
   ]
  },
  {
   "cell_type": "markdown",
   "metadata": {},
   "source": [
    "### 预测用户未知项的评分"
   ]
  },
  {
   "cell_type": "code",
   "execution_count": 26,
   "metadata": {
    "collapsed": true
   },
   "outputs": [],
   "source": [
    "def prediction(train_mat, sim_mat, K=1, model='user_based'):\n",
    "    assert len(train_mat.shape)>1\n",
    "    n,m = train_mat.shape\n",
    "    \n",
    "    if  model=='user_based':\n",
    "        sim_sort = -1*np.sort(-np.array(sim_mat))[:,1:K+1] # 除去最相似的自己\n",
    "        neighbors = np.argsort(-np.array(sim_mat))[:,1:K+1]\n",
    "        common_items = train_mat[neighbors]>0 \n",
    "        mean_user = np.reshape(np.sum(train_mat,axis=1)/np.sum(train_mat>0,axis=1), (-1,1))\n",
    "        mat_m = train_mat - mean_user\n",
    "        aa = np.sum(sim_sort[:,:,np.newaxis]*mat_m[neighbors]*common_items,axis=1)\n",
    "        bb = np.sum(sim_sort[:,:,np.newaxis]*common_items,axis=1)+1e-10 # 1e-10保证分母不为０\n",
    "        r_pred = mean_user + aa/bb\n",
    "        return r_pred\n",
    "    else: # 'item_based'\n",
    "        r_pred=[]\n",
    "        for u in range(n):\n",
    "            u_mat = np.tile(train_mat[u],(m,1)) # m份用户u的记录,m*m\n",
    "            rated_items_sim = (u_mat>0)*sim_mat # 保留有评分记录的相似度 m*m\n",
    "            sim_sort = -1*np.sort(-np.array(rated_items_sim))[:,:K] # m*K\n",
    "            neighbors = np.argsort(-np.array(rated_items_sim))[:,:K] # m*K\n",
    "            neighbor_ratings = np.array([u_mat[i,neighbors[i]] for i in range(m)])# m*K\n",
    "            aa = np.sum(sim_sort*neighbor_ratings,axis=1) # m*1\n",
    "            bb = np.sum(sim_sort,axis=1)+1e-10 # 1e-10保证分母不为０ m*1\n",
    "            r_pred.append(aa/bb)\n",
    "        \n",
    "        return np.array(r_pred)    "
   ]
  },
  {
   "cell_type": "code",
   "execution_count": 27,
   "metadata": {
    "collapsed": false
   },
   "outputs": [],
   "source": [
    "r_pred = prediction(train_mat=train_mat, sim_mat=sim_mat, K=K, model='user_based')"
   ]
  },
  {
   "cell_type": "markdown",
   "metadata": {},
   "source": [
    "### 根据预测值　对商品进行排序　获取top-n列表"
   ]
  },
  {
   "cell_type": "code",
   "execution_count": 29,
   "metadata": {
    "collapsed": false
   },
   "outputs": [
    {
     "name": "stdout",
     "output_type": "stream",
     "text": [
      "user 0:\n",
      "('top-n list:', array([ 533,  785, 1432,  984,  572, 1281, 1279,  410,  782,  806], dtype=int64))\n"
     ]
    }
   ],
   "source": [
    "n = 10\n",
    "topn = get_topn(r_pred=r_pred, train_mat=train_mat, n=n)\n",
    "print('user 0:')\n",
    "print('top-n list:',topn[0])"
   ]
  },
  {
   "cell_type": "markdown",
   "metadata": {},
   "source": [
    "### 评估模型\n",
    "$$\n",
    " MAE = \\frac{1}{\\left | R_{test} \\right |} \\sum_{\\left ( u,i \\right ) \\in R_{test} }^{ } \\left | r_{u,i}-\\widehat{r}_{u,i} \\right |\n",
    "$$\n",
    "$$\n",
    "RMSE = \\sqrt{\\frac{1}{\\left | R_{test} \\right |} \\sum_{\\left ( u,i \\right ) \\in R_{test} }^{ } \\left (r_{u,i}-\\widehat{r}_{u,i} \\right )^2 }\n",
    "$$\n",
    "$$\n",
    "Recall = \\frac{hits}{\\left |R_{test} \\right |}\n",
    "$$\n",
    "$$\n",
    "Precision = \\frac{hits}{\\left |top\\_n \\right |}\n",
    "$$"
   ]
  },
  {
   "cell_type": "code",
   "execution_count": 30,
   "metadata": {
    "collapsed": false
   },
   "outputs": [
    {
     "name": "stdout",
     "output_type": "stream",
     "text": [
      "mae:0.8497; rmse:1.1711\n",
      "recall:0.0118; precision:0.0251\n"
     ]
    }
   ],
   "source": [
    "mae, rmse = mae_rmse(r_pred=r_pred, test_mat=test_mat)\n",
    "print('mae:%.4f; rmse:%.4f'%(mae,rmse))\n",
    "recall, precision = recall_precision(topn=topn, test_mat=test_mat)\n",
    "print('recall:%.4f; precision:%.4f'%(recall,precision))"
   ]
  },
  {
   "cell_type": "markdown",
   "metadata": {},
   "source": [
    "# 基于商品的近邻算法\n",
    "用户－商品的评分矩阵　$ R^{n×m} $　转置\n",
    "－>商品－用户的评分矩阵　$ R^{m×n} $"
   ]
  },
  {
   "cell_type": "code",
   "execution_count": 32,
   "metadata": {
    "collapsed": false
   },
   "outputs": [
    {
     "name": "stdout",
     "output_type": "stream",
     "text": [
      "0\n",
      "100\n",
      "200\n",
      "300\n",
      "400\n",
      "500\n",
      "600\n",
      "700\n",
      "800\n",
      "900\n",
      "1000\n",
      "1100\n",
      "1200\n",
      "1300\n",
      "1400\n",
      "1500\n",
      "1600\n"
     ]
    },
    {
     "data": {
      "image/png": "[encoded data removed]",
      "text/plain": [
       "<matplotlib.figure.Figure at 0x11d7aa20>"
      ]
     },
     "metadata": {},
     "output_type": "display_data"
    },
    {
     "name": "stdout",
     "output_type": "stream",
     "text": [
      "('min_similarity:', 0.5, 'K:', 1)\n"
     ]
    }
   ],
   "source": [
    "#计算相似度\n",
    "sim_mat = similarity_matrix(mat=train_mat.T, model='consine', minimum_common_items=3)# 矩阵转置\n",
    "neighbors = np.argsort(-np.array(sim_mat)) # 获取近邻\n",
    "sim_sort = -1*np.sort(-np.array(sim_mat)) # 获取对应近邻的相似度\n",
    "\n",
    "# 获取近邻数K\n",
    "min_similarity = 0.5\n",
    "K = get_K(sim_mat, min_similarity=min_similarity)\n",
    "print('min_similarity:',min_similarity,'K:',K)"
   ]
  },
  {
   "cell_type": "code",
   "execution_count": 33,
   "metadata": {
    "collapsed": false
   },
   "outputs": [
    {
     "name": "stdout",
     "output_type": "stream",
     "text": [
      "mae:0.8277; rmse:1.1497\n",
      "recall:0.0092; precision:0.0194\n"
     ]
    }
   ],
   "source": [
    "# 预测评分矩阵\n",
    "r_pred = prediction(train_mat=train_mat, sim_mat=sim_mat, K=5, model='item_based')\n",
    "\n",
    "# 获取推荐列表\n",
    "n = 10\n",
    "topn = get_topn(r_pred=r_pred, train_mat=train_mat, n=n)\n",
    "\n",
    "# 评估算法\n",
    "mae, rmse = mae_rmse(r_pred=r_pred, test_mat=test_mat)\n",
    "print('mae:%.4f; rmse:%.4f'%(mae,rmse))\n",
    "recall, precision = recall_precision(topn=topn, test_mat=test_mat)\n",
    "print('recall:%.4f; precision:%.4f'%(recall,precision))"
   ]
  },
  {
   "cell_type": "code",
   "execution_count": null,
   "metadata": {
    "collapsed": true
   },
   "outputs": [],
   "source": []
  }
 ],
 "metadata": {
  "anaconda-cloud": {},
  "kernelspec": {
   "display_name": "Python [conda root]",
   "language": "python",
   "name": "conda-root-py"
  },
  "language_info": {
   "codemirror_mode": {
    "name": "ipython",
    "version": 2
   },
   "file_extension": ".py",
   "mimetype": "text/x-python",
   "name": "python",
   "nbconvert_exporter": "python",
   "pygments_lexer": "ipython2",
   "version": "2.7.12"
  }
 },
 "nbformat": 4,
 "nbformat_minor": 1
}
